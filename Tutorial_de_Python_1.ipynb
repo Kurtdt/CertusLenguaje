{
  "nbformat": 4,
  "nbformat_minor": 0,
  "metadata": {
    "colab": {
      "provenance": [],
      "include_colab_link": true
    },
    "kernelspec": {
      "name": "python3",
      "display_name": "Python 3"
    }
  },
  "cells": [
    {
      "cell_type": "markdown",
      "metadata": {
        "id": "view-in-github",
        "colab_type": "text"
      },
      "source": [
        "<a href=\"https://colab.research.google.com/github/Kurtdt/CertusLenguaje/blob/main/Tutorial_de_Python_1.ipynb\" target=\"_parent\"><img src=\"https://colab.research.google.com/assets/colab-badge.svg\" alt=\"Open In Colab\"/></a>"
      ]
    },
    {
      "cell_type": "markdown",
      "metadata": {
        "id": "juxsdVgb45cy"
      },
      "source": [
        "# **Tutorial de Python**"
      ]
    },
    {
      "cell_type": "markdown",
      "source": [],
      "metadata": {
        "id": "vuLT_BjIgSnR"
      }
    },
    {
      "cell_type": "markdown",
      "metadata": {
        "id": "z6_bOKFN5KNn"
      },
      "source": [
        "# Conceptos Básicos\n",
        "\n",
        "Antes de empezar vamos a recorrer algunos conceptos básicos y operaciones que aparecerán en casi todos los códigos que realicen."
      ]
    },
    {
      "cell_type": "code",
      "metadata": {
        "id": "q7v0zroN5KNr",
        "colab": {
          "base_uri": "https://localhost:8080/"
        },
        "outputId": "4e68ff5c-7d44-4794-981e-7557819b81cd"
      },
      "source": [
        "x = 3       #Definimos una variable numérica\n",
        "print(x)    #La función 'print()' la escribe en la pantalla\n",
        "\n",
        "y = 4\n",
        "print(y + 5)\n",
        "\n",
        "z = x + 2*y  #Podemos hacer cuentas, el '*' es el producto\n",
        "print(z)"
      ],
      "execution_count": 1,
      "outputs": [
        {
          "output_type": "stream",
          "name": "stdout",
          "text": [
            "3\n",
            "9\n",
            "11\n"
          ]
        }
      ]
    },
    {
      "cell_type": "code",
      "metadata": {
        "id": "aGeggUoa5KNz",
        "colab": {
          "base_uri": "https://localhost:8080/",
          "height": 176
        },
        "outputId": "7f72504b-79a8-4970-c69e-e43224e912a0"
      },
      "source": [
        "del z          # La función 'del' elimina la variable\n",
        "\n",
        "print(z)       # Error! (z ya no existe porque la eliminamos)"
      ],
      "execution_count": 2,
      "outputs": [
        {
          "output_type": "error",
          "ename": "NameError",
          "evalue": "name 'z' is not defined",
          "traceback": [
            "\u001b[0;31m---------------------------------------------------------------------------\u001b[0m",
            "\u001b[0;31mNameError\u001b[0m                                 Traceback (most recent call last)",
            "\u001b[0;32m<ipython-input-2-61fe3036401f>\u001b[0m in \u001b[0;36m<cell line: 3>\u001b[0;34m()\u001b[0m\n\u001b[1;32m      1\u001b[0m \u001b[0;32mdel\u001b[0m \u001b[0mz\u001b[0m          \u001b[0;31m# La función 'del' elimina la variable\u001b[0m\u001b[0;34m\u001b[0m\u001b[0;34m\u001b[0m\u001b[0m\n\u001b[1;32m      2\u001b[0m \u001b[0;34m\u001b[0m\u001b[0m\n\u001b[0;32m----> 3\u001b[0;31m \u001b[0mprint\u001b[0m\u001b[0;34m(\u001b[0m\u001b[0mz\u001b[0m\u001b[0;34m)\u001b[0m       \u001b[0;31m# Error! (z ya no existe porque la eliminamos)\u001b[0m\u001b[0;34m\u001b[0m\u001b[0;34m\u001b[0m\u001b[0m\n\u001b[0m",
            "\u001b[0;31mNameError\u001b[0m: name 'z' is not defined"
          ]
        }
      ]
    },
    {
      "cell_type": "markdown",
      "source": [
        "## 1. Operadores\n",
        "---\n",
        "Los operadores son símbolos que le indican al intérprete que realice una operación específica, como aritmética, comparación, lógica, etc."
      ],
      "metadata": {
        "id": "aBHwk0iFmuxf"
      }
    },
    {
      "cell_type": "markdown",
      "source": [
        "### 1.1. Operadores aritméticos\n",
        "Los operadores aritméticos se utilizan para realizar operaciones matemáticas básicas.\n",
        "\n",
        "\n",
        "| OPERADOR | DESCRIPCIÓN |\tUSO |\n",
        "|----------|-------------|-------|\n",
        "|+\t|Realiza Adición entre los operandos\t|`12 + 3 = 15`|\n",
        "|-\t|Realiza Substracción entre los operandos\t|`12 - 3 = 9`|\n",
        "|`*`\t|Realiza Multiplicación entre los operandos\t|`12 * 3 = 36`|\n",
        "|/\t|Realiza División entre los operandos\t|`12 / 3 = 4`|\n",
        "|%\t|Realiza un módulo(resto) entre los operandos\t|`16 % 3 = 1`|\n",
        "|`**`\t|Realiza la potencia de los operandos\t|`12 ** 3 = 1728`|\n",
        "|//\t|Realiza la división con resultado de número entero\t|`18 // 5 = 3`|"
      ],
      "metadata": {
        "id": "ngk2-86Rnn-a"
      }
    },
    {
      "cell_type": "code",
      "source": [
        "a = 10\n",
        "b = 3\n",
        "\n",
        "suma = a + b\n",
        "resta = a - b\n",
        "multiplicacion = a * b\n",
        "division = a / b\n",
        "modulo = a % b\n",
        "division_entera = a // b\n",
        "potencia = a ** b\n",
        "\n",
        "print(\"Suma:\", suma)\n",
        "print(\"Resta:\", resta)\n",
        "print(\"Multiplicación:\", multiplicacion)\n",
        "print(\"División:\", division)\n",
        "print(\"Módulo:\", modulo)\n",
        "print(\"División Entera:\", division_entera)\n",
        "print(\"Potencia:\", potencia)"
      ],
      "metadata": {
        "colab": {
          "base_uri": "https://localhost:8080/"
        },
        "id": "65tsXSOKpyGI",
        "outputId": "83c378ed-1455-40db-a406-ce0097b174c7"
      },
      "execution_count": 5,
      "outputs": [
        {
          "output_type": "stream",
          "name": "stdout",
          "text": [
            "Suma: 13\n",
            "Resta: 7\n",
            "Multiplicación: 30\n",
            "División: 3.3333333333333335\n",
            "Módulo: 1\n",
            "División Entera: 3\n",
            "Potencia: 1000\n"
          ]
        }
      ]
    },
    {
      "cell_type": "markdown",
      "source": [
        "### 1.2. Operadores relacionales o de comparación\n",
        "Un operador relacional se emplea para comparar y establecer la relación entre ellos. Devuelve un valor booleano (true o false) basado en la condición.\n",
        "\n",
        "\n",
        "\n",
        "| OPERADOR | DESCRIPCIÓN |\n",
        "|----------|-------------|\n",
        "|==|Igualdad: Devuelve `True` si los operandos son iguales.|\n",
        "|!=|Desigualdad: Devuelve `True` si los operandos no son iguales.|\n",
        "|>|Mayor que: Devuelve `True` si el primer operando es mayor que el segundo.|\n",
        "|<|Menor que: Devuelve `True` si el primer operando es menor que el segundo.|\n",
        "|>=|Mayor o igual que: Devuelve `True` si el primer operando es mayor o igual que el segundo.|\n",
        "|<=|Menor o igual que: Devuelve `True` si el primer operando es menor o igual que el segundo.|"
      ],
      "metadata": {
        "id": "qSq1fE9BoVQW"
      }
    },
    {
      "cell_type": "code",
      "metadata": {
        "id": "VNTRR9Ki5KN5",
        "colab": {
          "base_uri": "https://localhost:8080/"
        },
        "outputId": "00c43dc2-ac52-4276-e28b-6053ccd01fa4"
      },
      "source": [
        "print(2==2)   # '=='\n",
        "print(2!=2)   # '!='\n",
        "\n",
        "\n",
        "x=3\n",
        "y=2\n",
        "print(x < y) # '<='\n",
        "print(x > y) # '<='\n",
        "print(x <= y) # '<='\n",
        "print(x >= y) # '<='"
      ],
      "execution_count": 3,
      "outputs": [
        {
          "output_type": "stream",
          "name": "stdout",
          "text": [
            "True\n",
            "False\n",
            "False\n",
            "True\n",
            "False\n",
            "True\n"
          ]
        }
      ]
    },
    {
      "cell_type": "markdown",
      "source": [
        "### 1.3. Operadores lógicos\n",
        "Se utiliza un operador lógico para tomar una decisión basada en múltiples condiciones. Los operadores lógicos utilizados en Python son  `and`, `or` y `not`.\n",
        "\n",
        "| OPERADOR | DESCRIPCIÓN | USO |\n",
        "|----------|-------------|-----|\n",
        "|and|Devuelve `True` si ambos operandos son `True`\t|a and b|\n",
        "|or|Devuelve `True` si alguno de los operandos es `True`\t|a or b|\n",
        "|not|Devuelve `True` si alguno de los operandos `False`\t|not a|"
      ],
      "metadata": {
        "id": "6_AWiDtVrIYW"
      }
    },
    {
      "cell_type": "code",
      "source": [
        "p = True\n",
        "q = False\n",
        "\n",
        "y_logico = p and q\n",
        "o_logico = p or q\n",
        "no_logico_p = not p\n",
        "no_logico_q = not q\n",
        "\n",
        "print(\"Y lógico:\", y_logico)\n",
        "print(\"O lógico:\", o_logico)\n",
        "print(\"No lógico de p:\", no_logico_p)\n",
        "print(\"No lógico de q:\", no_logico_q)"
      ],
      "metadata": {
        "colab": {
          "base_uri": "https://localhost:8080/"
        },
        "id": "N025ZvM_sXfF",
        "outputId": "37737edf-02a0-4742-d757-23ad9678f0d2"
      },
      "execution_count": 6,
      "outputs": [
        {
          "output_type": "stream",
          "name": "stdout",
          "text": [
            "Y lógico: False\n",
            "O lógico: True\n",
            "No lógico de p: False\n",
            "No lógico de q: True\n"
          ]
        }
      ]
    },
    {
      "cell_type": "markdown",
      "metadata": {
        "id": "_fTJJTvs5KN-"
      },
      "source": [
        "## 2. Tipos de datos/variables\n",
        "---\n",
        "\n",
        "1. type() funcion para saber el tipo de dato de una variable."
      ]
    },
    {
      "cell_type": "code",
      "metadata": {
        "id": "0bEZWlr35KOA",
        "colab": {
          "base_uri": "https://localhost:8080/"
        },
        "outputId": "6edc5157-afa6-42d2-91d4-cdaab1bac5b5"
      },
      "source": [
        "print(type(4))     #int (entero)\n",
        "print(type(4.0))   #float (numero de punto flotante, numero con coma, decimal)\n",
        "print(type(True))  #boolean (booleana, binaria, True o False, 0 o 1)\n",
        "print(type(None))  #NoneType (variable vacia, no tiene nada)\n",
        "print(type('c'))   #str (secuencia de caracteres)\n",
        "print(type(\"hola\"))#str (secuencia de caracteres)\n",
        "print(type([]))    #list (lista, conjunto ordenado de elementos)\n",
        "print(type(print)) #builtin_function_or_method (funcion, serie de procesos, algoritmo)"
      ],
      "execution_count": 7,
      "outputs": [
        {
          "output_type": "stream",
          "name": "stdout",
          "text": [
            "<class 'int'>\n",
            "<class 'float'>\n",
            "<class 'bool'>\n",
            "<class 'NoneType'>\n",
            "<class 'str'>\n",
            "<class 'str'>\n",
            "<class 'list'>\n",
            "<class 'builtin_function_or_method'>\n"
          ]
        }
      ]
    },
    {
      "cell_type": "markdown",
      "metadata": {
        "id": "YOUY4kjZ5KOF"
      },
      "source": [
        "### Convierto numeros a strings y viceversa"
      ]
    },
    {
      "cell_type": "code",
      "metadata": {
        "id": "ZBUFaw5O5KOG",
        "colab": {
          "base_uri": "https://localhost:8080/"
        },
        "outputId": "6af13933-f050-476b-e6fa-0e93d00d70fa"
      },
      "source": [
        "nombre = (input(\"Ingresa tu nombre: \"))\n",
        "edad = int(input(\"Ingresa tu edad: \"))\n",
        "print(f\"Tu nombre es {nombre} y tu edad es {edad}\")"
      ],
      "execution_count": 16,
      "outputs": [
        {
          "output_type": "stream",
          "name": "stdout",
          "text": [
            "Ingresa tu nombre: Cristian\n",
            "Ingresa tu edad: 20\n",
            "Tu nombre es Cristian y tu edad es 20\n"
          ]
        }
      ]
    },
    {
      "cell_type": "code",
      "metadata": {
        "id": "8fZm_xGK5KOL",
        "colab": {
          "base_uri": "https://localhost:8080/"
        },
        "outputId": "692bc39b-fc7b-4998-b772-61120c16f376"
      },
      "source": [
        "print(int(string)+int(string)) #convierte el string a entero\n"
      ],
      "execution_count": 9,
      "outputs": [
        {
          "output_type": "stream",
          "name": "stdout",
          "text": [
            "4\n"
          ]
        }
      ]
    },
    {
      "cell_type": "code",
      "metadata": {
        "id": "7XyuTq9Z5KOO"
      },
      "source": [
        "flotante=float(\"2.2\") #idem con numeros con coma\n",
        "flotante+flotante"
      ],
      "execution_count": null,
      "outputs": []
    },
    {
      "cell_type": "markdown",
      "source": [
        "## 3. Listas, tuplas y diccionarios\n",
        "---"
      ],
      "metadata": {
        "id": "zNhXzUwx4gox"
      }
    },
    {
      "cell_type": "markdown",
      "metadata": {
        "collapsed": true,
        "id": "KPccKkFk5KOS"
      },
      "source": [
        "### 3.1. Listas\n",
        "\n",
        "Una lista es una variable donde puedo ir guardando cualquier cantidad con diferente tipo de datos dentro, en el orden que quiera. Son colecciones ordenadas y modificables de elementos.\n",
        "\n",
        "Las listas son extremadamente versátiles y útiles en Python, y proporcionan una forma flexible de almacenar y manipular datos.\n",
        "\n"
      ]
    },
    {
      "cell_type": "code",
      "metadata": {
        "id": "KF8-9Vzn5KOS"
      },
      "source": [
        "lista = [] #creo una lista vacía\n",
        "lista = list() #lista vacía. o bien para convertir otro tipo de dato en lista.\n",
        "print(lista)\n",
        "\n",
        "lista = [0] #lista con un unico elemento, el numero 0\n",
        "print(lista)\n",
        "\n",
        "#cada elemento va separado por una coma\n",
        "lista = ['Pepe', 8] #lista con dos elementos, el string 'Pepe' y el numero 8\n",
        "#        [  0    ,  1]\n",
        "print(lista)"
      ],
      "execution_count": null,
      "outputs": []
    },
    {
      "cell_type": "code",
      "metadata": {
        "id": "Q4VNJquxnRRt",
        "colab": {
          "base_uri": "https://localhost:8080/"
        },
        "outputId": "e4387f53-776b-463c-856f-647b2d348d29"
      },
      "source": [
        "lista_super=['arroz','galletas','cafe','pan']\n",
        "print(len(lista_super)) #devuelve la cantidad de elementos de la lista\n",
        "\n",
        "print(len([])) #una lista vacia tiene 0 cantidad de elementos"
      ],
      "execution_count": 17,
      "outputs": [
        {
          "output_type": "stream",
          "name": "stdout",
          "text": [
            "4\n",
            "0\n"
          ]
        }
      ]
    },
    {
      "cell_type": "markdown",
      "metadata": {
        "id": "aDZTY7Sk5KOV"
      },
      "source": [
        "Otras formas de crear listas:"
      ]
    },
    {
      "cell_type": "code",
      "metadata": {
        "id": "DjnDJc8L5KOW"
      },
      "source": [
        "elemento = 30\n",
        "cantidad_repeticiones = 5\n",
        "lista_repetida = [elemento]*cantidad_repeticiones #Crea una lista con la cantidad de veces elegida el elemento elegido\n",
        "print(lista_repetida)"
      ],
      "execution_count": null,
      "outputs": []
    },
    {
      "cell_type": "markdown",
      "metadata": {
        "id": "tZfS9T-d5KOa"
      },
      "source": [
        "**Operaciones** con listas"
      ]
    },
    {
      "cell_type": "code",
      "metadata": {
        "id": "O5I6Mc6t5KOb"
      },
      "source": [
        "lista_a = [\"3\"] * 2\n",
        "lista_b = [\"5\"] * 4\n",
        "\n",
        "lista_suma = lista_a+lista_b\n",
        "# la suma concatena los elementos de las listas sumadas en una única lista\n",
        "print(lista_suma)"
      ],
      "execution_count": null,
      "outputs": []
    },
    {
      "cell_type": "code",
      "metadata": {
        "id": "HaoPHvOdpL4H"
      },
      "source": [
        "lista_super=['arroz','galletas','cafe','pan']\n",
        "elemento_para_agregar = 'chocolate'\n",
        "\n",
        "#Con la funcion 'append'  -> nombre_lista.append(nombre_elemento), le agrego un elemento al final de la lista\n",
        "print(lista_super)\n",
        "lista_super.append(elemento_para_agregar)\n",
        "print(lista_super)\n",
        "\n",
        "#Con la funcion 'insert'  -> nombre_lista.insert(posicion, nombre_elemento), le agrego un elemento en una posición de la lista\n",
        "lista_super.insert(1, 'fideos')\n",
        "print(lista_super)\n",
        "\n",
        "#Con la funcion 'remove' -> nombre_lista.remove('elemento'), remuevo un elemento especifico\n",
        "lista_super.remove('pan')\n",
        "print(lista_super)\n",
        "\n",
        "#Con la función 'sort' -> nombre_lista.sort(), ordeno la lista a - z o menor a mayor. Si se desea ordenar en viceversa: nombre_lista.sort(reverse=True)\n",
        "lista_super.sort()\n",
        "print('Lista ordenada:', lista_super)\n",
        "\n",
        "#Con la función 'index' -> nombre_lista.index('elemento'), puedo obtener el índice/posición de un elemento\n",
        "print('Chocolate se encuentra en la posición: ', lista_super.index('chocolate'))\n",
        "\n",
        "#Con la función 'clear' -> nombre_lista.clear(), limpio todos los datos de la lista\n",
        "lista_super.clear()\n",
        "print(lista_super)\n",
        "\n",
        "#Con la función funcion dir() podemos conocer metodos adicionales de como trabajar con una lista\n",
        "print(dir(lista_super))"
      ],
      "execution_count": null,
      "outputs": []
    },
    {
      "cell_type": "code",
      "metadata": {
        "id": "NP7F1OqaqQvQ"
      },
      "source": [
        "#Con nombre_lista[n] accedo al elemento n de la lista pedida, donde 'n' es un numero entero\n",
        "print(lista_super[0]) #notar que el primer elemento es el de numero 0,\n",
        "print(lista_super[1]) #entonces el elemento [1] es el segundo\n",
        "print(lista_super[len(lista_super)-1]) #Si quiero el ultimo elemento entonces pido la cantidad de elementos -1\n",
        "print(lista_super[-1]) #O mas facil, solo con -1"
      ],
      "execution_count": null,
      "outputs": []
    },
    {
      "cell_type": "markdown",
      "metadata": {
        "id": "I5VhK8525KOe"
      },
      "source": [
        "Acceder a elementos de una lista: la numeración comienza en **0** y va hasta **length - 1**"
      ]
    },
    {
      "cell_type": "code",
      "metadata": {
        "id": "PWGZhZHA5KOf"
      },
      "source": [
        "frase = \"Pepe esta aprendiendo a programar en python\"\n",
        "lista_frase = frase.split(\" \") #divide al string en los elementos que separen el separador introducido, en este caso un espacio\n",
        "print(lista_frase)"
      ],
      "execution_count": null,
      "outputs": []
    },
    {
      "cell_type": "code",
      "metadata": {
        "id": "uaz8sKO0sY-L"
      },
      "source": [
        "inicio_intervalo = 1\n",
        "fin_intervalo = 3\n",
        "print(lista_frase[inicio_intervalo:fin_intervalo]) # puedo pedir todos los elementos en un intervalo\n",
        "print(lista_frase[inicio_intervalo:]) # o desde un lugar en adelante\n",
        "print(lista_frase[:fin_intervalo]) # o desde el primero hasta un lugar"
      ],
      "execution_count": null,
      "outputs": []
    },
    {
      "cell_type": "code",
      "metadata": {
        "id": "kySc4EAl5KO0"
      },
      "source": [
        "paso = 3\n",
        "print(lista_frase[0:7:paso]) # Puedo ir salteando elementos tambien\n",
        "print(lista_frase[::paso]) # Si no pongo nada entiende que va de principio a fin\n",
        "print(lista_frase[-1:0:-1]) # Tambien puedo ir para atras"
      ],
      "execution_count": null,
      "outputs": []
    },
    {
      "cell_type": "code",
      "metadata": {
        "id": "q7HqFXad5KO_"
      },
      "source": [
        "print(min([1,4,2.2])) # puedo sumar los elementos de una lista"
      ],
      "execution_count": null,
      "outputs": []
    },
    {
      "cell_type": "markdown",
      "source": [
        "### 3.2. Tuplas\n",
        "Las tuplas, a diferencia de listas, contienen informacion que no se puede modificar o alterar. Son colecciones ordenadas e inmutables de elementos.\n",
        "\n",
        "Son útiles cuando quieres asegurarte de que los datos no cambien y deseas una estructura de datos más ligera que las listas."
      ],
      "metadata": {
        "id": "N8KKQUn2zGCv"
      }
    },
    {
      "cell_type": "code",
      "source": [
        "tupla_vacia = () #creo una tupla vacía\n",
        "tupla_vacia = tuple() #también puedo utilizar la función tuple()\n",
        "print(tupla_vacia)\n",
        "\n",
        "tupla = ('Manzana', 'Banana', 'Cereza') #tupla con elementos\n",
        "print(tupla)\n",
        "\n",
        "tupla_un_elemento = ('Solo') #tupla con un solo elemento\n",
        "print(tupla_un_elemento)"
      ],
      "metadata": {
        "id": "GTREFm71zXpw"
      },
      "execution_count": null,
      "outputs": []
    },
    {
      "cell_type": "markdown",
      "source": [
        "**Operaciones** con tuplas"
      ],
      "metadata": {
        "id": "fqw_FOHD0ePf"
      }
    },
    {
      "cell_type": "code",
      "source": [
        "# Acceder a elementos de la tupla\n",
        "print(tupla[0])  # Devuelve 'Manzana'\n",
        "\n",
        "# Obtener la longitud de la tupla\n",
        "print(len(tupla))  # Devuelve la cantidad de elementos de la tupla\n",
        "\n",
        "# Desempaquetar una tupla\n",
        "fruta1, fruta2, fruta3 = tupla\n",
        "print(fruta1, fruta2, fruta3)  # Devuelve 'Manzana Banana Cereza'\n",
        "\n",
        "# Métodos adicionales de trabajo con tuplas\n",
        "print(dir(tupla))"
      ],
      "metadata": {
        "id": "DJklpGLh0hgX"
      },
      "execution_count": null,
      "outputs": []
    },
    {
      "cell_type": "markdown",
      "metadata": {
        "id": "p02kQaQ65KPC"
      },
      "source": [
        "### 3.3. Diccionarios\n",
        "Un diccionario es una colección desordenada, modificable e indexada de pares clave-valor. Cada elemento del diccionario está representado por un par clave-valor único, donde la clave actúa como un identificador único para el valor asociado.\n",
        "\n",
        "En vez de acceder por índice como en las listas, se accede por una palabra o clave, llamada 'key'.\n",
        "\n",
        "Los diccionarios son muy útiles cuando necesitas asociar valores con claves específicas y acceder rápidamente a esos valores mediante las claves.\n",
        "\n"
      ]
    },
    {
      "cell_type": "code",
      "metadata": {
        "id": "DAhOvJin5KPD"
      },
      "source": [
        "# Dos maneras de crear un diccionario\n",
        "diccionario_vacio = dict()\n",
        "diccionario_vacio = {}\n",
        "print(diccionario_vacio)"
      ],
      "execution_count": null,
      "outputs": []
    },
    {
      "cell_type": "code",
      "source": [
        "# Crear un diccionario con elementos\n",
        "diccionario = {'nombre': 'Juan', 'edad': 30, 'ciudad': 'México'}\n",
        "print(diccionario)\n",
        "\n",
        "# Acceder a elementos del diccionario\n",
        "print(diccionario['nombre'])  # Devuelve 'Juan'\n",
        "\n",
        "# Modificar un valor en el diccionario\n",
        "diccionario['edad'] = 31\n",
        "print(diccionario)\n",
        "\n",
        "# Agregar un nuevo par clave-valor al diccionario\n",
        "diccionario['profesión'] = 'Ingeniero'\n",
        "print(diccionario)\n",
        "\n",
        "# Eliminar un elemento del diccionario\n",
        "del diccionario['ciudad']\n",
        "print(diccionario)\n",
        "\n",
        "# Obtener la longitud del diccionario\n",
        "print(len(diccionario))  # Devuelve la cantidad de pares clave-valor\n",
        "\n",
        "# Verificar si una clave está en el diccionario\n",
        "print('nombre' in diccionario)  # Devuelve True"
      ],
      "metadata": {
        "id": "yEq27UrM2fxh"
      },
      "execution_count": null,
      "outputs": []
    },
    {
      "cell_type": "code",
      "metadata": {
        "id": "OPcMc7wbghPu"
      },
      "source": [
        "# Le puedo asignar una variable (en este caso la cantidad de empanadas) a cada \"key\" (el gusto de empanada)\n",
        "diccionario_empanadas = {}\n",
        "diccionario_empanadas['queso y cebolla'] = 5 #Agrego un elemento al diccionado con su clave(key) y su valor\n",
        "diccionario_empanadas['carne'] = 4\n",
        "diccionario_empanadas['humita'] = 8\n",
        "\n",
        "print(diccionario_empanadas)\n",
        "\n",
        "# Obtener todas las claves del diccionario\n",
        "print(diccionario_empanadas.keys())\n",
        "\n",
        "# Obtener todos los valores del diccionario\n",
        "print(diccionario_empanadas.values())\n",
        "\n",
        "# Obtener todos los pares clave-valor del diccionario\n",
        "print(diccionario_empanadas.items())\n",
        "\n",
        "# Métodos adicionales de trabajo con diccionarios\n",
        "print(dir(diccionario_empanadas))"
      ],
      "execution_count": null,
      "outputs": []
    },
    {
      "cell_type": "code",
      "metadata": {
        "id": "pE2dk12J5KPG"
      },
      "source": [
        "# asi accedo a lo que contiene el key 'humita'\n",
        "diccionario_empanadas['humita'] = 10"
      ],
      "execution_count": null,
      "outputs": []
    },
    {
      "cell_type": "code",
      "metadata": {
        "id": "b5iGyYNY5KPI"
      },
      "source": [
        "# así puedo ver los valores y keys que existen dentro del diccionario\n",
        "print(diccionario_empanadas.values())\n",
        "print(diccionario_empanadas.keys())\n",
        "print(diccionario_empanadas.items())\n"
      ],
      "execution_count": null,
      "outputs": []
    },
    {
      "cell_type": "markdown",
      "source": [
        "### 3.4. Conjuntos (Set)\n",
        "\n",
        "Un conjunto, o set, es una colección desordenada y mutable de elementos únicos en Python. Los conjuntos son útiles cuando deseas almacenar elementos únicos y realizar operaciones como unión, intersección, diferencia, etc.\n",
        "\n",
        "Los conjuntos son una estructura de datos eficiente para realizar operaciones de conjunto, como encontrar elementos únicos o realizar operaciones de conjuntos comunes.\n",
        "\n"
      ],
      "metadata": {
        "id": "mBAEViQl1dVI"
      }
    },
    {
      "cell_type": "code",
      "source": [
        "colores={'Red','Green','Blue'}      #Se reconoce porque estan cotenidos entre {}\n",
        "print(colores)                      #recalcamos los datos contenidos no tienen un indice que los posicione\n",
        "print(type(colores))                #Comprobamos que muestra el tipo set\n",
        "print('Red' in colores)             #Aun asi se puede hacer reconocimiento si contiene un dato especifico\n",
        "colores.add('Violet')               #Lo adiciona pero comprobamos que lo coloca en cualquier posicion\n",
        "print(colores)\n",
        "colores.add('Black')\n",
        "print(colores)                      #Lo adiciona pero comprobamos que lo coloca en cualquier posicion\n",
        "colores.add('White')\n",
        "print(colores)                      #Lo adiciona pero comprobamos que lo coloca en cualquier posicion\n",
        "#Prueba ejecutando 2 veces sin limpiar pantalla veras que los 3 colores adicionados tienen\n",
        "#diferente posicion cada vez que lo ejecutamos\n",
        "\n",
        "colores.remove('Red')         #Podemos tambien remover componentes\n",
        "print(colores)\n",
        "colores.clear()               #Remueve todos los datos de set\n",
        "print(colores)\n",
        "del colores                   #Este comando lo elimina por completo\n",
        "#print(colores)               #Daria error porque colores fue eliminado"
      ],
      "metadata": {
        "id": "L8Dk_6L21tqZ"
      },
      "execution_count": null,
      "outputs": []
    }
  ]
}